{
 "cells": [
  {
   "cell_type": "code",
   "execution_count": null,
   "metadata": {},
   "outputs": [],
   "source": [
    "from master import MASTERModel\n",
    "import pickle"
   ]
  },
  {
   "cell_type": "code",
   "execution_count": null,
   "metadata": {},
   "outputs": [],
   "source": [
    "universe = 'csi300' # or 'csi800'\n",
    "\n",
    "# Please install qlib first before load the data.\n",
    "# with open(f'data/{universe}/{universe}_dl_train.pkl', 'rb') as f:\n",
    "#     dl_train = pickle.load(f)\n",
    "with open(f'data/{universe}/{universe}_dl_valid.pkl', 'rb') as f:\n",
    "    dl_valid = pickle.load(f)\n",
    "# with open(f'data/{universe}/{universe}_dl_test.pkl', 'rb') as f:\n",
    "#     dl_test = pickle.load(f)"
   ]
  },
  {
   "cell_type": "code",
   "execution_count": 7,
   "metadata": {},
   "outputs": [
    {
     "name": "stdout",
     "output_type": "stream",
     "text": [
      "(8, 222)\n"
     ]
    }
   ],
   "source": [
    "for sampler in dl_test:\n",
    "    print(sampler.shape)\n",
    "    break"
   ]
  },
  {
   "cell_type": "code",
   "execution_count": 12,
   "metadata": {},
   "outputs": [
    {
     "data": {
      "text/plain": [
       "==========================================================================================\n",
       "Layer (type:depth-idx)                   Input Shape               Output Shape\n",
       "==========================================================================================\n",
       "MASTER                                   [281, 8, 221]             [281]\n",
       "├─Gate: 1-1                              [281, 63]                 [281, 158]\n",
       "│    └─Linear: 2-1                       [281, 63]                 [281, 158]\n",
       "├─Sequential: 1-2                        [281, 8, 158]             [281, 1]\n",
       "│    └─Linear: 2-2                       [281, 8, 158]             [281, 8, 256]\n",
       "│    └─PositionalEncoding: 2-3           [281, 8, 256]             [281, 8, 256]\n",
       "│    └─TAttention: 2-4                   [281, 8, 256]             [281, 8, 256]\n",
       "│    │    └─LayerNorm: 3-1               [281, 8, 256]             [281, 8, 256]\n",
       "│    │    └─Linear: 3-2                  [281, 8, 256]             [281, 8, 256]\n",
       "│    │    └─Linear: 3-3                  [281, 8, 256]             [281, 8, 256]\n",
       "│    │    └─Linear: 3-4                  [281, 8, 256]             [281, 8, 256]\n",
       "│    │    └─ModuleList: 3-5              --                        --\n",
       "│    │    │    └─Dropout: 4-1            [281, 8, 8]               [281, 8, 8]\n",
       "│    │    │    └─Dropout: 4-2            [281, 8, 8]               [281, 8, 8]\n",
       "│    │    │    └─Dropout: 4-3            [281, 8, 8]               [281, 8, 8]\n",
       "│    │    │    └─Dropout: 4-4            [281, 8, 8]               [281, 8, 8]\n",
       "│    │    └─LayerNorm: 3-6               [281, 8, 256]             [281, 8, 256]\n",
       "│    │    └─Sequential: 3-7              [281, 8, 256]             [281, 8, 256]\n",
       "│    │    │    └─Linear: 4-5             [281, 8, 256]             [281, 8, 256]\n",
       "│    │    │    └─ReLU: 4-6               [281, 8, 256]             [281, 8, 256]\n",
       "│    │    │    └─Dropout: 4-7            [281, 8, 256]             [281, 8, 256]\n",
       "│    │    │    └─Linear: 4-8             [281, 8, 256]             [281, 8, 256]\n",
       "│    │    │    └─Dropout: 4-9            [281, 8, 256]             [281, 8, 256]\n",
       "│    └─SAttention: 2-5                   [281, 8, 256]             [281, 8, 256]\n",
       "│    │    └─LayerNorm: 3-8               [281, 8, 256]             [281, 8, 256]\n",
       "│    │    └─Linear: 3-9                  [281, 8, 256]             [281, 8, 256]\n",
       "│    │    └─Linear: 3-10                 [281, 8, 256]             [281, 8, 256]\n",
       "│    │    └─Linear: 3-11                 [281, 8, 256]             [281, 8, 256]\n",
       "│    │    └─ModuleList: 3-12             --                        --\n",
       "│    │    │    └─Dropout: 4-10           [8, 281, 281]             [8, 281, 281]\n",
       "│    │    │    └─Dropout: 4-11           [8, 281, 281]             [8, 281, 281]\n",
       "│    │    └─LayerNorm: 3-13              [281, 8, 256]             [281, 8, 256]\n",
       "│    │    └─Sequential: 3-14             [281, 8, 256]             [281, 8, 256]\n",
       "│    │    │    └─Linear: 4-12            [281, 8, 256]             [281, 8, 256]\n",
       "│    │    │    └─ReLU: 4-13              [281, 8, 256]             [281, 8, 256]\n",
       "│    │    │    └─Dropout: 4-14           [281, 8, 256]             [281, 8, 256]\n",
       "│    │    │    └─Linear: 4-15            [281, 8, 256]             [281, 8, 256]\n",
       "│    │    │    └─Dropout: 4-16           [281, 8, 256]             [281, 8, 256]\n",
       "│    └─TemporalAttention: 2-6            [281, 8, 256]             [281, 256]\n",
       "│    │    └─Linear: 3-15                 [281, 8, 256]             [281, 8, 256]\n",
       "│    └─Linear: 2-7                       [281, 256]                [281, 1]\n",
       "==========================================================================================\n",
       "Total params: 775,041\n",
       "Trainable params: 775,041\n",
       "Non-trainable params: 0\n",
       "Total mult-adds (M): 217.79\n",
       "==========================================================================================\n",
       "Input size (MB): 1.99\n",
       "Forward/backward pass size (MB): 74.02\n",
       "Params size (MB): 3.10\n",
       "Estimated Total Size (MB): 79.11\n",
       "=========================================================================================="
      ]
     },
     "execution_count": 12,
     "metadata": {},
     "output_type": "execute_result"
    }
   ],
   "source": [
    "import torchinfo\n",
    "from master import MASTER\n",
    "\n",
    "model = MASTER(\n",
    "    beta=0.0001\n",
    ")\n",
    "torchinfo.summary(model, input_size=[281, 8, 221], depth=10, cache_forward_pass=True, col_names = (\"input_size\",\n",
    "                \"output_size\"))\n",
    "# input size = [281, 8, 221] [股票数量, 时间窗口, 特征数量]\n"
   ]
  }
 ],
 "metadata": {
  "kernelspec": {
   "display_name": "Python 3",
   "language": "python",
   "name": "python3"
  },
  "language_info": {
   "codemirror_mode": {
    "name": "ipython",
    "version": 3
   },
   "file_extension": ".py",
   "mimetype": "text/x-python",
   "name": "python",
   "nbconvert_exporter": "python",
   "pygments_lexer": "ipython3",
   "version": "3.8.19"
  }
 },
 "nbformat": 4,
 "nbformat_minor": 2
}
